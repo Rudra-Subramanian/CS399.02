{
 "cells": [
  {
   "cell_type": "code",
   "execution_count": null,
   "metadata": {},
   "outputs": [],
   "source": [
    "import pandas as pd\n",
    "import matplotlib.pyplot as plt\n",
    "plt.style.use('seaborn-darkgrid')\n",
    "import numpy as np\n",
    "\n",
    "csv_file = \"2_5_fabricio_tiktok30minuse\"\n",
    "\n",
    "data = pd.read_csv(\"../csv_files/\" + csv_file + \".csv\", encoding='latin-1')"
   ]
  },
  {
   "cell_type": "code",
   "execution_count": null,
   "metadata": {},
   "outputs": [],
   "source": [
    "data = data[~(data[\"Protocol\"].isin([\"MDNS\", \"ICMP\", \"DHCP\", \"NTP\", \"SSDP\", \"ARP\"])|data['Protocol'].isna())]\n",
    "data[\"Protocol\"].value_counts()"
   ]
  },
  {
   "cell_type": "code",
   "execution_count": null,
   "metadata": {},
   "outputs": [],
   "source": [
    "source = data[\"Destination\"].value_counts().idxmax()\n",
    "source"
   ]
  },
  {
   "cell_type": "code",
   "execution_count": null,
   "metadata": {},
   "outputs": [],
   "source": [
    "data.iloc[12]"
   ]
  },
  {
   "cell_type": "code",
   "execution_count": null,
   "metadata": {},
   "outputs": [],
   "source": [
    "# add new column host for ip host\n",
    "\n",
    "def find_host(row):\n",
    "    # find non-source ip address\n",
    "    ip = str(row[\"Destination\"] if row[\"Destination\"] != source else row[\"Source\"])\n",
    "\n",
    "    # akamai\n",
    "    if any(x in ip for x in ['google', 'gmail', '1e100', 'app-measurement']):\n",
    "        return \"Google\"\n",
    "    elif any(x in ip for x in ['amazon', 'aws']):\n",
    "        return \"Amazon\"\n",
    "    elif any(x in ip for x in ['apple', 'apple-dns', 'aaplimg']):\n",
    "        return \"Apple\"\n",
    "    elif any(x in ip for x in ['akamai', 'akadns']):\n",
    "        return \"Akamai\"\n",
    "    elif any(x in ip for x in ['facebook', 'fbcdn', 'instagram']):\n",
    "        return \"Facebook\"\n",
    "    else:\n",
    "        return \"other\"\n",
    "\n",
    "data[\"Host\"] = data.apply(find_host, axis=1)\n",
    "data[\"Host\"].value_counts()\n"
   ]
  },
  {
   "cell_type": "code",
   "execution_count": null,
   "metadata": {},
   "outputs": [],
   "source": [
    "type(data.apply(find_host, axis=1))"
   ]
  },
  {
   "cell_type": "code",
   "execution_count": null,
   "metadata": {},
   "outputs": [],
   "source": [
    "data[data['Host'] == 'other']['Source'].value_counts()"
   ]
  },
  {
   "cell_type": "markdown",
   "metadata": {},
   "source": [
    "Buckets time to to 1 second or 5 second chunks"
   ]
  },
  {
   "cell_type": "code",
   "execution_count": null,
   "metadata": {},
   "outputs": [],
   "source": [
    "bucket_size = 5\n",
    "time_series = np.arange(0, data['Time'].max(), bucket_size)\n",
    "\n",
    "# UNCOMMENT APPROPRIATE CODE FOOR CSV FORMAT\n",
    "# if saved as seconds, convert to integer seconds\n",
    "data['Time'] = data['Time'].round().astype(int)\n",
    "\n",
    "# if saved as datetime, convert to integer seconds\n",
    "# times = pd.to_datetime(data['Time'])\n",
    "# data['Time'] = (times-times[0]).dt.seconds\n",
    "\n",
    "# round seconds to nearest 5\n",
    "data['Time'] = data['Time'].apply(lambda x: round(x/bucket_size)*bucket_size)\n",
    "data['Time']"
   ]
  },
  {
   "cell_type": "code",
   "execution_count": null,
   "metadata": {},
   "outputs": [],
   "source": [
    "# separate data by host\n",
    "fb = data.where(data['Host'] == 'Facebook')['Length'].fillna(0)\n",
    "goog = data.where(data['Host'] == 'Google')['Length'].fillna(0)\n",
    "amz = data.where(data['Host'] == 'Amazon')['Length'].fillna(0)\n",
    "aapl = data.where(data['Host'] == 'Apple')['Length'].fillna(0)\n",
    "ak = data.where(data['Host'] == 'Akamai')['Length'].fillna(0)\n",
    "oth = data.where(data['Host'] == 'other')['Length'].fillna(0)"
   ]
  },
  {
   "cell_type": "code",
   "execution_count": null,
   "metadata": {},
   "outputs": [],
   "source": [
    "# plot packet length by time\n",
    "size_data = pd.DataFrame({'Time': data['Time'], 'Facebook': fb, 'Google': goog, 'Amazon': amz, 'Akamai': ak, 'Apple': aapl, 'Other': oth})\n",
    "size_data = size_data.groupby('Time', dropna=False, as_index=False).sum()\n",
    "# add zeros to missing data\n",
    "size_data = size_data.set_index('Time').reindex(time_series, fill_value=0)\n",
    "\n",
    "fig, ax = plt.subplots()\n",
    "\n",
    "ax.stackplot(time_series, \n",
    "            size_data['Facebook'], size_data['Google'], size_data['Amazon'], size_data['Akamai'], size_data['Apple'], size_data['Other'], \n",
    "            labels=['Facebook', 'Google', 'Amazon', 'Akamai', 'Apple', 'Other'])\n",
    "\n",
    "# ax.stackplot(data['Time'], fb, goog, amz, ak, labels=['Facebook', 'Google', 'Amazon', 'Akamai'])\n",
    "ax.legend(loc='upper right')\n",
    "ax.set_title(csv_file + \" (5s)\")\n",
    "ax.set_xlabel('Second')\n",
    "ax.set_ylabel('Total packet throughput (bytes)')\n",
    "#ax.set_yscale('log')\n",
    "\n",
    "plt.rcParams['figure.figsize'] = [15, 5]\n",
    "\n",
    "plt.show()"
   ]
  },
  {
   "cell_type": "code",
   "execution_count": null,
   "metadata": {},
   "outputs": [],
   "source": [
    "# count number of packets per second by host\n",
    "count_data = pd.DataFrame({'Time': data['Time'], \n",
    "                           'Facebook': fb[fb > 0], 'Google': goog[goog > 0], 'Amazon': amz[amz > 0], \n",
    "                           'Akamai': ak[ak > 0], 'Apple': aapl[aapl > 0], 'Other': oth[oth > 0]})\n",
    "count_data = count_data.groupby('Time', dropna=False, as_index=False).count()\n",
    "count_data = count_data.set_index('Time').reindex(time_series, fill_value=0)\n",
    "\n",
    "fig, ax = plt.subplots()\n",
    "ax.stackplot(time_series,\n",
    "            count_data['Facebook'], count_data['Google'], count_data['Amazon'], count_data['Akamai'], count_data['Apple'], count_data['Other'],\n",
    "            labels=['Facebook', 'Google', 'Amazon', 'Akamai', 'Apple', 'Other'])\n",
    "\n",
    "ax.legend(loc='upper right')\n",
    "ax.set_title(csv_file + \" (5s)\")\n",
    "ax.set_xlabel('Second')\n",
    "ax.set_ylabel('Total packet count')\n",
    "# ax.set_yscale('log')\n",
    "\n",
    "plt.rcParams['figure.figsize'] = [15, 5]\n",
    "\n",
    "plt.show()\n"
   ]
  }
 ],
 "metadata": {
  "interpreter": {
   "hash": "aee8b7b246df8f9039afb4144a1f6fd8d2ca17a180786b69acc140d282b71a49"
  },
  "kernelspec": {
   "display_name": "Python 3.9.7 64-bit",
   "language": "python",
   "name": "python3"
  },
  "language_info": {
   "codemirror_mode": {
    "name": "ipython",
    "version": 3
   },
   "file_extension": ".py",
   "mimetype": "text/x-python",
   "name": "python",
   "nbconvert_exporter": "python",
   "pygments_lexer": "ipython3",
   "version": "3.9.7"
  },
  "orig_nbformat": 4
 },
 "nbformat": 4,
 "nbformat_minor": 2
}
