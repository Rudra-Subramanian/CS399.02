{
 "cells": [
  {
   "cell_type": "markdown",
   "metadata": {},
   "source": [
    "Start here to load a certain csv:"
   ]
  },
  {
   "cell_type": "code",
   "execution_count": null,
   "metadata": {},
   "outputs": [],
   "source": [
    "import pandas as pd\n",
    "import matplotlib.pyplot as plt\n",
    "plt.style.use('seaborn-darkgrid')\n",
    "\n",
    "data = pd.read_csv(\"../csv_files/2_1_fabricio_iphone7_twitter.csv\", encoding='latin-1')"
   ]
  },
  {
   "cell_type": "code",
   "execution_count": null,
   "metadata": {},
   "outputs": [],
   "source": [
    "source = data[\"Destination\"].value_counts().idxmax()\n",
    "source"
   ]
  },
  {
   "cell_type": "code",
   "execution_count": null,
   "metadata": {},
   "outputs": [],
   "source": [
    "data.iloc[0]"
   ]
  },
  {
   "cell_type": "code",
   "execution_count": null,
   "metadata": {},
   "outputs": [],
   "source": [
    "data = data[~(data[\"Protocol\"].isin([\"MDNS\", \"ICMP\", \"DHCP\", \"NTP\"])|data['Protocol'].isna())]\n",
    "data.shape\n",
    "data[\"Protocol\"].value_counts()"
   ]
  },
  {
   "cell_type": "markdown",
   "metadata": {},
   "source": [
    "A look at the outgoing packets:"
   ]
  },
  {
   "cell_type": "code",
   "execution_count": null,
   "metadata": {},
   "outputs": [],
   "source": [
    "plt.title(\"Outgoing packets\")\n",
    "data[\"Destination\"].value_counts().drop(source).plot.pie()"
   ]
  },
  {
   "cell_type": "code",
   "execution_count": null,
   "metadata": {},
   "outputs": [],
   "source": [
    "data[\"Destination\"].value_counts().drop(source)"
   ]
  },
  {
   "cell_type": "code",
   "execution_count": null,
   "metadata": {},
   "outputs": [],
   "source": [
    "plt.title(\"Outgoing packet addresses by total packet size\")\n",
    "data[\"Length\"].groupby(data[\"Destination\"]).sum().drop(source).plot.pie()"
   ]
  },
  {
   "cell_type": "markdown",
   "metadata": {},
   "source": [
    "A look at incoming packets:"
   ]
  },
  {
   "cell_type": "code",
   "execution_count": null,
   "metadata": {},
   "outputs": [],
   "source": [
    "plt.title(\"Incoming packets\")\n",
    "data[\"Source\"].value_counts().drop(source).plot.pie()"
   ]
  },
  {
   "cell_type": "code",
   "execution_count": null,
   "metadata": {},
   "outputs": [],
   "source": [
    "data[\"Source\"].value_counts().drop(source)[:10]"
   ]
  },
  {
   "cell_type": "code",
   "execution_count": null,
   "metadata": {},
   "outputs": [],
   "source": [
    "plt.title(\"Incoming packet addresses by total packet size\")\n",
    "data[\"Length\"].groupby(data[\"Source\"]).sum().drop(source).plot.pie()"
   ]
  },
  {
   "cell_type": "code",
   "execution_count": null,
   "metadata": {},
   "outputs": [],
   "source": [
    "plt.title(\"Protocol\")\n",
    "data[\"Protocol\"].value_counts().plot.pie()"
   ]
  },
  {
   "cell_type": "code",
   "execution_count": null,
   "metadata": {},
   "outputs": [],
   "source": [
    "plt.title(\"Protocols by total packet length\")\n",
    "data[\"Length\"].groupby(data[\"Protocol\"]).sum().plot.bar()"
   ]
  },
  {
   "cell_type": "code",
   "execution_count": null,
   "metadata": {},
   "outputs": [],
   "source": [
    "plt.title(\"Average packet size of top 5 destinations\")\n",
    "data[\"Length\"].groupby(data[\"Destination\"]).sum().drop(source)[:5].plot.bar()"
   ]
  },
  {
   "cell_type": "code",
   "execution_count": null,
   "metadata": {},
   "outputs": [],
   "source": [
    "# add new column host for ip host\n",
    "\n",
    "def find_host(row):\n",
    "    # find non-source ip address\n",
    "    ip = str(row[\"Destination\"] if row[\"Destination\"] != source else row[\"Source\"])\n",
    "\n",
    "    # akamai\n",
    "    if any(x in ip for x in ['google', 'gmail', '1e100']):\n",
    "        return \"Google\"\n",
    "    elif any(x in ip for x in ['amazon', 'aws']):\n",
    "        return \"Amazon\"\n",
    "    elif any(x in ip for x in ['apple', 'aapl']):\n",
    "        return \"Apple\"\n",
    "    elif any(x in ip for x in ['akamai', 'akadns']):\n",
    "        return \"Akamai\"\n",
    "    elif any(x in ip for x in ['facebook', 'akadns']):\n",
    "        return \"Facebook\"\n",
    "    else:\n",
    "        return \"other host\"\n",
    "\n",
    "data[\"Host\"] = data.apply(find_host, axis=1)\n"
   ]
  },
  {
   "cell_type": "code",
   "execution_count": null,
   "metadata": {},
   "outputs": [],
   "source": [
    "data[data[\"Host\"] == \"other host\"]"
   ]
  },
  {
   "cell_type": "code",
   "execution_count": null,
   "metadata": {},
   "outputs": [],
   "source": [
    "plt.title(\"Number of packets by host\")\n",
    "data[\"Host\"].value_counts(dropna=False).plot.pie()"
   ]
  },
  {
   "cell_type": "code",
   "execution_count": null,
   "metadata": {},
   "outputs": [],
   "source": [
    "plt.title(\"Hosts by total packet size\")\n",
    "data[\"Length\"].groupby(data[\"Host\"]).sum().plot.pie()"
   ]
  }
 ],
 "metadata": {
  "interpreter": {
   "hash": "397704579725e15f5c7cb49fe5f0341eb7531c82d19f2c29d197e8b64ab5776b"
  },
  "kernelspec": {
   "display_name": "Python 3.9.7 64-bit",
   "name": "python3"
  },
  "language_info": {
   "codemirror_mode": {
    "name": "ipython",
    "version": 3
   },
   "file_extension": ".py",
   "mimetype": "text/x-python",
   "name": "python",
   "nbconvert_exporter": "python",
   "pygments_lexer": "ipython3",
   "version": "3.9.7"
  },
  "orig_nbformat": 4
 },
 "nbformat": 4,
 "nbformat_minor": 2
}
